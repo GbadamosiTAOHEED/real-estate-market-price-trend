{
 "cells": [
  {
   "cell_type": "markdown",
   "id": "11de5d3a",
   "metadata": {},
   "source": [
    "# This analysis explores real estate price trends in Lagos, Nigeria, focusing on five key areas;Banana Island, Lekki Phase 1, Ifo, Epe, and Ikorodu.I utilize the pandas library for data manipulation and potentially explore predictive modeling techniques from scikit-learn to forecast future prices.\n",
    "    i am gbadamosi taoheed alade member of 3MTT, data science category "
   ]
  },
  {
   "cell_type": "code",
   "execution_count": 1,
   "id": "0e51ce6b",
   "metadata": {},
   "outputs": [],
   "source": [
    "#PRICE PREDICTION IN FIVE YEARS TIME."
   ]
  },
  {
   "cell_type": "code",
   "execution_count": 2,
   "id": "bd413bdd",
   "metadata": {},
   "outputs": [],
   "source": [
    "#import the necessary libraries "
   ]
  },
  {
   "cell_type": "code",
   "execution_count": 3,
   "id": "4c56d8d9",
   "metadata": {},
   "outputs": [],
   "source": [
    "import pandas as pd"
   ]
  },
  {
   "cell_type": "code",
   "execution_count": 4,
   "id": "6ed6c158",
   "metadata": {},
   "outputs": [],
   "source": [
    "import numpy as np"
   ]
  },
  {
   "cell_type": "code",
   "execution_count": 5,
   "id": "e445ffea",
   "metadata": {},
   "outputs": [],
   "source": [
    "import matplotlib.pyplot as plt"
   ]
  },
  {
   "cell_type": "code",
   "execution_count": 6,
   "id": "5952c2e1",
   "metadata": {},
   "outputs": [],
   "source": [
    "import seaborn as sns"
   ]
  },
  {
   "cell_type": "code",
   "execution_count": 7,
   "id": "26c67aca",
   "metadata": {},
   "outputs": [],
   "source": [
    "import sklearn as sk"
   ]
  },
  {
   "cell_type": "code",
   "execution_count": 8,
   "id": "48557b14",
   "metadata": {},
   "outputs": [],
   "source": [
    "#now let create dictionary for our data"
   ]
  },
  {
   "cell_type": "code",
   "execution_count": 9,
   "id": "a86f46be",
   "metadata": {},
   "outputs": [],
   "source": [
    "given_data={\"locations\":['lekki phase 1', 'Lekki', 'Epe', 'Ikorodu', 'Banana Estate','Ifo'],\n",
    "\"current_prices(#)\":[100000,200000, 100000, 90000, 250000, 80000],\n",
    "\"percent_increase\":[0.40,0.35, 0.30, 0.38, 0.45, 0.25],\"years_back\":[2023,2022,2021,2020,2019,2018],\n",
    "\"years_forward\":[2025,2026,2027,2028,2029,2030]}"
   ]
  },
  {
   "cell_type": "code",
   "execution_count": 106,
   "id": "58f417b1",
   "metadata": {},
   "outputs": [],
   "source": [
    "given_data=pd.DataFrame(given_data)"
   ]
  },
  {
   "cell_type": "code",
   "execution_count": 107,
   "id": "3bed694d",
   "metadata": {},
   "outputs": [
    {
     "data": {
      "text/html": [
       "<div>\n",
       "<style scoped>\n",
       "    .dataframe tbody tr th:only-of-type {\n",
       "        vertical-align: middle;\n",
       "    }\n",
       "\n",
       "    .dataframe tbody tr th {\n",
       "        vertical-align: top;\n",
       "    }\n",
       "\n",
       "    .dataframe thead th {\n",
       "        text-align: right;\n",
       "    }\n",
       "</style>\n",
       "<table border=\"1\" class=\"dataframe\">\n",
       "  <thead>\n",
       "    <tr style=\"text-align: right;\">\n",
       "      <th></th>\n",
       "      <th>locations</th>\n",
       "      <th>current_prices(#)</th>\n",
       "      <th>percent_increase</th>\n",
       "      <th>years_back</th>\n",
       "      <th>years_forward</th>\n",
       "      <th>historical_prices</th>\n",
       "      <th>predicted_prices</th>\n",
       "    </tr>\n",
       "  </thead>\n",
       "  <tbody>\n",
       "    <tr>\n",
       "      <th>0</th>\n",
       "      <td>lekki phase 1</td>\n",
       "      <td>100000</td>\n",
       "      <td>0.40</td>\n",
       "      <td>2023</td>\n",
       "      <td>2025</td>\n",
       "      <td>1.000000e+06</td>\n",
       "      <td>1.400000e+06</td>\n",
       "    </tr>\n",
       "    <tr>\n",
       "      <th>1</th>\n",
       "      <td>Lekki</td>\n",
       "      <td>200000</td>\n",
       "      <td>0.35</td>\n",
       "      <td>2022</td>\n",
       "      <td>2026</td>\n",
       "      <td>1.481481e+23</td>\n",
       "      <td>2.700000e+23</td>\n",
       "    </tr>\n",
       "    <tr>\n",
       "      <th>2</th>\n",
       "      <td>Epe</td>\n",
       "      <td>100000</td>\n",
       "      <td>0.30</td>\n",
       "      <td>2021</td>\n",
       "      <td>2027</td>\n",
       "      <td>5.917160e+38</td>\n",
       "      <td>1.300000e+30</td>\n",
       "    </tr>\n",
       "    <tr>\n",
       "      <th>3</th>\n",
       "      <td>Ikorodu</td>\n",
       "      <td>90000</td>\n",
       "      <td>0.38</td>\n",
       "      <td>2020</td>\n",
       "      <td>2028</td>\n",
       "      <td>3.424564e+53</td>\n",
       "      <td>1.242000e+66</td>\n",
       "    </tr>\n",
       "    <tr>\n",
       "      <th>4</th>\n",
       "      <td>Banana Estate</td>\n",
       "      <td>250000</td>\n",
       "      <td>0.45</td>\n",
       "      <td>2019</td>\n",
       "      <td>2029</td>\n",
       "      <td>5.655461e+72</td>\n",
       "      <td>3.625001e+49</td>\n",
       "    </tr>\n",
       "    <tr>\n",
       "      <th>5</th>\n",
       "      <td>Ifo</td>\n",
       "      <td>80000</td>\n",
       "      <td>0.25</td>\n",
       "      <td>2018</td>\n",
       "      <td>2030</td>\n",
       "      <td>2.621443e+35</td>\n",
       "      <td>1.000000e+47</td>\n",
       "    </tr>\n",
       "  </tbody>\n",
       "</table>\n",
       "</div>"
      ],
      "text/plain": [
       "       locations  current_prices(#)  percent_increase  years_back  \\\n",
       "0  lekki phase 1             100000              0.40        2023   \n",
       "1          Lekki             200000              0.35        2022   \n",
       "2            Epe             100000              0.30        2021   \n",
       "3        Ikorodu              90000              0.38        2020   \n",
       "4  Banana Estate             250000              0.45        2019   \n",
       "5            Ifo              80000              0.25        2018   \n",
       "\n",
       "   years_forward  historical_prices  predicted_prices  \n",
       "0           2025       1.000000e+06      1.400000e+06  \n",
       "1           2026       1.481481e+23      2.700000e+23  \n",
       "2           2027       5.917160e+38      1.300000e+30  \n",
       "3           2028       3.424564e+53      1.242000e+66  \n",
       "4           2029       5.655461e+72      3.625001e+49  \n",
       "5           2030       2.621443e+35      1.000000e+47  "
      ]
     },
     "execution_count": 107,
     "metadata": {},
     "output_type": "execute_result"
    }
   ],
   "source": [
    "given_data.head(6)"
   ]
  },
  {
   "cell_type": "code",
   "execution_count": 17,
   "id": "48e2be77",
   "metadata": {},
   "outputs": [],
   "source": [
    "# Function to calculate historical prices for each location\n",
    "def calculate_historical_prices(row):\n",
    "    historical_prices = []\n",
    "    for year in range(row['years_back'], 2024): \n",
    "        # 2024 as the current year\n",
    "        price = row['current_prices(#)'] / (1 + row['percent_increase']) ** (2023 - year)\n",
    "        historical_prices.append(price)\n",
    "    return historical_prices\n",
    " "
   ]
  },
  {
   "cell_type": "code",
   "execution_count": 66,
   "id": "4216f8fb",
   "metadata": {},
   "outputs": [],
   "source": [
    "# Function to calculate predicted prices for each location\n",
    "def calculate_predicted_prices(colums):  \n",
    "     predicted_prices = []"
   ]
  },
  {
   "cell_type": "code",
   "execution_count": 68,
   "id": "79a50312",
   "metadata": {},
   "outputs": [],
   "source": [
    "def calculate_predicted_prices(row):\n",
    "    predicted_prices = []\n",
    "    for year in range(2025, row['years_forward'] + 1):\n",
    "        price = row['current_prices(#)'] * (1 + row['percent_increase']) ** (year - 2024)\n",
    "        predicted_prices.append(price)\n",
    "    return predicted_prices\n"
   ]
  },
  {
   "cell_type": "code",
   "execution_count": 69,
   "id": "1c9b0415",
   "metadata": {},
   "outputs": [],
   "source": [
    "# Calculate historical and predicted prices for each location\n",
    "given_data['historical_prices'] = given_data.apply(calculate_historical_prices, axis=1)\n"
   ]
  },
  {
   "cell_type": "code",
   "execution_count": 70,
   "id": "1571bec2",
   "metadata": {},
   "outputs": [],
   "source": [
    "given_data['predicted_prices'] = given_data.apply(calculate_predicted_prices, axis=1)"
   ]
  },
  {
   "cell_type": "code",
   "execution_count": 71,
   "id": "041254fc",
   "metadata": {},
   "outputs": [
    {
     "name": "stdout",
     "output_type": "stream",
     "text": [
      "given_data with Historical and Predicted Prices:\n",
      "       locations  current_prices(#)  percent_increase  years_back  \\\n",
      "0  lekki phase 1             100000              0.40        2023   \n",
      "1          Lekki             200000              0.35        2022   \n",
      "2            Epe             100000              0.30        2021   \n",
      "3        Ikorodu              90000              0.38        2020   \n",
      "4  Banana Estate             250000              0.45        2019   \n",
      "5            Ifo              80000              0.25        2018   \n",
      "\n",
      "   years_forward                                  historical_prices  \\\n",
      "0           2025                                         [100000.0]   \n",
      "1           2026                     [148148.14814814815, 200000.0]   \n",
      "2           2027   [59171.59763313609, 76923.07692307692, 100000.0]   \n",
      "3           2028  [34245.63710583272, 47258.97920604916, 65217.3...   \n",
      "4           2029  [56554.608422960606, 82004.18221329288, 118906...   \n",
      "5           2030  [26214.4, 32768.0, 40960.0, 51200.0, 64000.0, ...   \n",
      "\n",
      "                                    predicted_prices  \n",
      "0                                         [140000.0]  \n",
      "1                     [270000.0, 364500.00000000006]  \n",
      "2           [130000.0, 169000.00000000003, 219700.0]  \n",
      "3  [124199.99999999999, 171395.99999999997, 23652...  \n",
      "4  [362500.0, 525625.0, 762156.25, 1105126.5625, ...  \n",
      "5  [100000.0, 125000.0, 156250.0, 195312.5, 24414...  \n"
     ]
    }
   ],
   "source": [
    "print(\"given_data with Historical and Predicted Prices:\")\n",
    "print(given_data)\n"
   ]
  },
  {
   "cell_type": "code",
   "execution_count": 72,
   "id": "31c8ac42",
   "metadata": {},
   "outputs": [
    {
     "data": {
      "text/html": [
       "<div>\n",
       "<style scoped>\n",
       "    .dataframe tbody tr th:only-of-type {\n",
       "        vertical-align: middle;\n",
       "    }\n",
       "\n",
       "    .dataframe tbody tr th {\n",
       "        vertical-align: top;\n",
       "    }\n",
       "\n",
       "    .dataframe thead th {\n",
       "        text-align: right;\n",
       "    }\n",
       "</style>\n",
       "<table border=\"1\" class=\"dataframe\">\n",
       "  <thead>\n",
       "    <tr style=\"text-align: right;\">\n",
       "      <th></th>\n",
       "      <th>locations</th>\n",
       "      <th>current_prices(#)</th>\n",
       "      <th>percent_increase</th>\n",
       "      <th>years_back</th>\n",
       "      <th>years_forward</th>\n",
       "      <th>historical_prices</th>\n",
       "      <th>predicted_prices</th>\n",
       "    </tr>\n",
       "  </thead>\n",
       "  <tbody>\n",
       "    <tr>\n",
       "      <th>0</th>\n",
       "      <td>lekki phase 1</td>\n",
       "      <td>100000</td>\n",
       "      <td>0.40</td>\n",
       "      <td>2023</td>\n",
       "      <td>2025</td>\n",
       "      <td>[100000.0]</td>\n",
       "      <td>[140000.0]</td>\n",
       "    </tr>\n",
       "    <tr>\n",
       "      <th>1</th>\n",
       "      <td>Lekki</td>\n",
       "      <td>200000</td>\n",
       "      <td>0.35</td>\n",
       "      <td>2022</td>\n",
       "      <td>2026</td>\n",
       "      <td>[148148.14814814815, 200000.0]</td>\n",
       "      <td>[270000.0, 364500.00000000006]</td>\n",
       "    </tr>\n",
       "    <tr>\n",
       "      <th>2</th>\n",
       "      <td>Epe</td>\n",
       "      <td>100000</td>\n",
       "      <td>0.30</td>\n",
       "      <td>2021</td>\n",
       "      <td>2027</td>\n",
       "      <td>[59171.59763313609, 76923.07692307692, 100000.0]</td>\n",
       "      <td>[130000.0, 169000.00000000003, 219700.0]</td>\n",
       "    </tr>\n",
       "    <tr>\n",
       "      <th>3</th>\n",
       "      <td>Ikorodu</td>\n",
       "      <td>90000</td>\n",
       "      <td>0.38</td>\n",
       "      <td>2020</td>\n",
       "      <td>2028</td>\n",
       "      <td>[34245.63710583272, 47258.97920604916, 65217.3...</td>\n",
       "      <td>[124199.99999999999, 171395.99999999997, 23652...</td>\n",
       "    </tr>\n",
       "    <tr>\n",
       "      <th>4</th>\n",
       "      <td>Banana Estate</td>\n",
       "      <td>250000</td>\n",
       "      <td>0.45</td>\n",
       "      <td>2019</td>\n",
       "      <td>2029</td>\n",
       "      <td>[56554.608422960606, 82004.18221329288, 118906...</td>\n",
       "      <td>[362500.0, 525625.0, 762156.25, 1105126.5625, ...</td>\n",
       "    </tr>\n",
       "    <tr>\n",
       "      <th>5</th>\n",
       "      <td>Ifo</td>\n",
       "      <td>80000</td>\n",
       "      <td>0.25</td>\n",
       "      <td>2018</td>\n",
       "      <td>2030</td>\n",
       "      <td>[26214.4, 32768.0, 40960.0, 51200.0, 64000.0, ...</td>\n",
       "      <td>[100000.0, 125000.0, 156250.0, 195312.5, 24414...</td>\n",
       "    </tr>\n",
       "  </tbody>\n",
       "</table>\n",
       "</div>"
      ],
      "text/plain": [
       "       locations  current_prices(#)  percent_increase  years_back  \\\n",
       "0  lekki phase 1             100000              0.40        2023   \n",
       "1          Lekki             200000              0.35        2022   \n",
       "2            Epe             100000              0.30        2021   \n",
       "3        Ikorodu              90000              0.38        2020   \n",
       "4  Banana Estate             250000              0.45        2019   \n",
       "5            Ifo              80000              0.25        2018   \n",
       "\n",
       "   years_forward                                  historical_prices  \\\n",
       "0           2025                                         [100000.0]   \n",
       "1           2026                     [148148.14814814815, 200000.0]   \n",
       "2           2027   [59171.59763313609, 76923.07692307692, 100000.0]   \n",
       "3           2028  [34245.63710583272, 47258.97920604916, 65217.3...   \n",
       "4           2029  [56554.608422960606, 82004.18221329288, 118906...   \n",
       "5           2030  [26214.4, 32768.0, 40960.0, 51200.0, 64000.0, ...   \n",
       "\n",
       "                                    predicted_prices  \n",
       "0                                         [140000.0]  \n",
       "1                     [270000.0, 364500.00000000006]  \n",
       "2           [130000.0, 169000.00000000003, 219700.0]  \n",
       "3  [124199.99999999999, 171395.99999999997, 23652...  \n",
       "4  [362500.0, 525625.0, 762156.25, 1105126.5625, ...  \n",
       "5  [100000.0, 125000.0, 156250.0, 195312.5, 24414...  "
      ]
     },
     "execution_count": 72,
     "metadata": {},
     "output_type": "execute_result"
    }
   ],
   "source": [
    "given_data.head(6)"
   ]
  },
  {
   "cell_type": "code",
   "execution_count": 73,
   "id": "74b261ec",
   "metadata": {},
   "outputs": [
    {
     "data": {
      "text/html": [
       "<div>\n",
       "<style scoped>\n",
       "    .dataframe tbody tr th:only-of-type {\n",
       "        vertical-align: middle;\n",
       "    }\n",
       "\n",
       "    .dataframe tbody tr th {\n",
       "        vertical-align: top;\n",
       "    }\n",
       "\n",
       "    .dataframe thead th {\n",
       "        text-align: right;\n",
       "    }\n",
       "</style>\n",
       "<table border=\"1\" class=\"dataframe\">\n",
       "  <thead>\n",
       "    <tr style=\"text-align: right;\">\n",
       "      <th></th>\n",
       "      <th>locations</th>\n",
       "      <th>current_prices(#)</th>\n",
       "      <th>percent_increase</th>\n",
       "      <th>years_back</th>\n",
       "      <th>years_forward</th>\n",
       "      <th>historical_prices</th>\n",
       "      <th>predicted_prices</th>\n",
       "    </tr>\n",
       "  </thead>\n",
       "  <tbody>\n",
       "    <tr>\n",
       "      <th>0</th>\n",
       "      <td>False</td>\n",
       "      <td>False</td>\n",
       "      <td>False</td>\n",
       "      <td>False</td>\n",
       "      <td>False</td>\n",
       "      <td>False</td>\n",
       "      <td>False</td>\n",
       "    </tr>\n",
       "    <tr>\n",
       "      <th>1</th>\n",
       "      <td>False</td>\n",
       "      <td>False</td>\n",
       "      <td>False</td>\n",
       "      <td>False</td>\n",
       "      <td>False</td>\n",
       "      <td>False</td>\n",
       "      <td>False</td>\n",
       "    </tr>\n",
       "    <tr>\n",
       "      <th>2</th>\n",
       "      <td>False</td>\n",
       "      <td>False</td>\n",
       "      <td>False</td>\n",
       "      <td>False</td>\n",
       "      <td>False</td>\n",
       "      <td>False</td>\n",
       "      <td>False</td>\n",
       "    </tr>\n",
       "    <tr>\n",
       "      <th>3</th>\n",
       "      <td>False</td>\n",
       "      <td>False</td>\n",
       "      <td>False</td>\n",
       "      <td>False</td>\n",
       "      <td>False</td>\n",
       "      <td>False</td>\n",
       "      <td>False</td>\n",
       "    </tr>\n",
       "    <tr>\n",
       "      <th>4</th>\n",
       "      <td>False</td>\n",
       "      <td>False</td>\n",
       "      <td>False</td>\n",
       "      <td>False</td>\n",
       "      <td>False</td>\n",
       "      <td>False</td>\n",
       "      <td>False</td>\n",
       "    </tr>\n",
       "    <tr>\n",
       "      <th>5</th>\n",
       "      <td>False</td>\n",
       "      <td>False</td>\n",
       "      <td>False</td>\n",
       "      <td>False</td>\n",
       "      <td>False</td>\n",
       "      <td>False</td>\n",
       "      <td>False</td>\n",
       "    </tr>\n",
       "  </tbody>\n",
       "</table>\n",
       "</div>"
      ],
      "text/plain": [
       "   locations  current_prices(#)  percent_increase  years_back  years_forward  \\\n",
       "0      False              False             False       False          False   \n",
       "1      False              False             False       False          False   \n",
       "2      False              False             False       False          False   \n",
       "3      False              False             False       False          False   \n",
       "4      False              False             False       False          False   \n",
       "5      False              False             False       False          False   \n",
       "\n",
       "   historical_prices  predicted_prices  \n",
       "0              False             False  \n",
       "1              False             False  \n",
       "2              False             False  \n",
       "3              False             False  \n",
       "4              False             False  \n",
       "5              False             False  "
      ]
     },
     "execution_count": 73,
     "metadata": {},
     "output_type": "execute_result"
    }
   ],
   "source": [
    "given_data.isnull()"
   ]
  },
  {
   "cell_type": "code",
   "execution_count": 74,
   "id": "a837e34c",
   "metadata": {},
   "outputs": [
    {
     "data": {
      "text/plain": [
       "count         6.000000\n",
       "mean     136666.666667\n",
       "std       70616.334277\n",
       "min       80000.000000\n",
       "25%       92500.000000\n",
       "50%      100000.000000\n",
       "75%      175000.000000\n",
       "max      250000.000000\n",
       "Name: current_prices(#), dtype: float64"
      ]
     },
     "execution_count": 74,
     "metadata": {},
     "output_type": "execute_result"
    }
   ],
   "source": [
    "given_data['current_prices(#)'].describe()"
   ]
  },
  {
   "cell_type": "code",
   "execution_count": 75,
   "id": "44907c9c",
   "metadata": {},
   "outputs": [
    {
     "name": "stdout",
     "output_type": "stream",
     "text": [
      "<class 'pandas.core.frame.DataFrame'>\n",
      "RangeIndex: 6 entries, 0 to 5\n",
      "Data columns (total 7 columns):\n",
      " #   Column             Non-Null Count  Dtype  \n",
      "---  ------             --------------  -----  \n",
      " 0   locations          6 non-null      object \n",
      " 1   current_prices(#)  6 non-null      int64  \n",
      " 2   percent_increase   6 non-null      float64\n",
      " 3   years_back         6 non-null      int64  \n",
      " 4   years_forward      6 non-null      int64  \n",
      " 5   historical_prices  6 non-null      object \n",
      " 6   predicted_prices   6 non-null      object \n",
      "dtypes: float64(1), int64(3), object(3)\n",
      "memory usage: 468.0+ bytes\n"
     ]
    }
   ],
   "source": [
    "given_data.info()"
   ]
  },
  {
   "cell_type": "code",
   "execution_count": 76,
   "id": "9de6f224",
   "metadata": {},
   "outputs": [
    {
     "data": {
      "text/plain": [
       "count         6.000000\n",
       "mean     136666.666667\n",
       "std       70616.334277\n",
       "min       80000.000000\n",
       "25%       92500.000000\n",
       "50%      100000.000000\n",
       "75%      175000.000000\n",
       "max      250000.000000\n",
       "Name: current_prices(#), dtype: float64"
      ]
     },
     "execution_count": 76,
     "metadata": {},
     "output_type": "execute_result"
    }
   ],
   "source": [
    "given_data['current_prices(#)'].describe()"
   ]
  },
  {
   "cell_type": "code",
   "execution_count": 77,
   "id": "b19519be",
   "metadata": {},
   "outputs": [
    {
     "data": {
      "text/plain": [
       "False"
      ]
     },
     "execution_count": 77,
     "metadata": {},
     "output_type": "execute_result"
    }
   ],
   "source": [
    "given_data['historical_prices'].isnull().any()"
   ]
  },
  {
   "cell_type": "code",
   "execution_count": 78,
   "id": "8aaab1cf",
   "metadata": {},
   "outputs": [
    {
     "data": {
      "text/plain": [
       "False"
      ]
     },
     "execution_count": 78,
     "metadata": {},
     "output_type": "execute_result"
    }
   ],
   "source": [
    "\n",
    "given_data['historical_prices'].duplicated().any()"
   ]
  },
  {
   "cell_type": "code",
   "execution_count": 79,
   "id": "c0cc52ac",
   "metadata": {},
   "outputs": [
    {
     "data": {
      "text/html": [
       "<div>\n",
       "<style scoped>\n",
       "    .dataframe tbody tr th:only-of-type {\n",
       "        vertical-align: middle;\n",
       "    }\n",
       "\n",
       "    .dataframe tbody tr th {\n",
       "        vertical-align: top;\n",
       "    }\n",
       "\n",
       "    .dataframe thead th {\n",
       "        text-align: right;\n",
       "    }\n",
       "</style>\n",
       "<table border=\"1\" class=\"dataframe\">\n",
       "  <thead>\n",
       "    <tr style=\"text-align: right;\">\n",
       "      <th></th>\n",
       "      <th>locations</th>\n",
       "      <th>current_prices(#)</th>\n",
       "      <th>percent_increase</th>\n",
       "      <th>years_back</th>\n",
       "      <th>years_forward</th>\n",
       "      <th>historical_prices</th>\n",
       "      <th>predicted_prices</th>\n",
       "    </tr>\n",
       "  </thead>\n",
       "  <tbody>\n",
       "    <tr>\n",
       "      <th>0</th>\n",
       "      <td>lekki phase 1</td>\n",
       "      <td>100000</td>\n",
       "      <td>0.40</td>\n",
       "      <td>2023</td>\n",
       "      <td>2025</td>\n",
       "      <td>[100000.0]</td>\n",
       "      <td>[140000.0]</td>\n",
       "    </tr>\n",
       "    <tr>\n",
       "      <th>1</th>\n",
       "      <td>Lekki</td>\n",
       "      <td>200000</td>\n",
       "      <td>0.35</td>\n",
       "      <td>2022</td>\n",
       "      <td>2026</td>\n",
       "      <td>[148148.14814814815, 200000.0]</td>\n",
       "      <td>[270000.0, 364500.00000000006]</td>\n",
       "    </tr>\n",
       "    <tr>\n",
       "      <th>2</th>\n",
       "      <td>Epe</td>\n",
       "      <td>100000</td>\n",
       "      <td>0.30</td>\n",
       "      <td>2021</td>\n",
       "      <td>2027</td>\n",
       "      <td>[59171.59763313609, 76923.07692307692, 100000.0]</td>\n",
       "      <td>[130000.0, 169000.00000000003, 219700.0]</td>\n",
       "    </tr>\n",
       "    <tr>\n",
       "      <th>3</th>\n",
       "      <td>Ikorodu</td>\n",
       "      <td>90000</td>\n",
       "      <td>0.38</td>\n",
       "      <td>2020</td>\n",
       "      <td>2028</td>\n",
       "      <td>[34245.63710583272, 47258.97920604916, 65217.3...</td>\n",
       "      <td>[124199.99999999999, 171395.99999999997, 23652...</td>\n",
       "    </tr>\n",
       "    <tr>\n",
       "      <th>4</th>\n",
       "      <td>Banana Estate</td>\n",
       "      <td>250000</td>\n",
       "      <td>0.45</td>\n",
       "      <td>2019</td>\n",
       "      <td>2029</td>\n",
       "      <td>[56554.608422960606, 82004.18221329288, 118906...</td>\n",
       "      <td>[362500.0, 525625.0, 762156.25, 1105126.5625, ...</td>\n",
       "    </tr>\n",
       "    <tr>\n",
       "      <th>5</th>\n",
       "      <td>Ifo</td>\n",
       "      <td>80000</td>\n",
       "      <td>0.25</td>\n",
       "      <td>2018</td>\n",
       "      <td>2030</td>\n",
       "      <td>[26214.4, 32768.0, 40960.0, 51200.0, 64000.0, ...</td>\n",
       "      <td>[100000.0, 125000.0, 156250.0, 195312.5, 24414...</td>\n",
       "    </tr>\n",
       "  </tbody>\n",
       "</table>\n",
       "</div>"
      ],
      "text/plain": [
       "       locations  current_prices(#)  percent_increase  years_back  \\\n",
       "0  lekki phase 1             100000              0.40        2023   \n",
       "1          Lekki             200000              0.35        2022   \n",
       "2            Epe             100000              0.30        2021   \n",
       "3        Ikorodu              90000              0.38        2020   \n",
       "4  Banana Estate             250000              0.45        2019   \n",
       "5            Ifo              80000              0.25        2018   \n",
       "\n",
       "   years_forward                                  historical_prices  \\\n",
       "0           2025                                         [100000.0]   \n",
       "1           2026                     [148148.14814814815, 200000.0]   \n",
       "2           2027   [59171.59763313609, 76923.07692307692, 100000.0]   \n",
       "3           2028  [34245.63710583272, 47258.97920604916, 65217.3...   \n",
       "4           2029  [56554.608422960606, 82004.18221329288, 118906...   \n",
       "5           2030  [26214.4, 32768.0, 40960.0, 51200.0, 64000.0, ...   \n",
       "\n",
       "                                    predicted_prices  \n",
       "0                                         [140000.0]  \n",
       "1                     [270000.0, 364500.00000000006]  \n",
       "2           [130000.0, 169000.00000000003, 219700.0]  \n",
       "3  [124199.99999999999, 171395.99999999997, 23652...  \n",
       "4  [362500.0, 525625.0, 762156.25, 1105126.5625, ...  \n",
       "5  [100000.0, 125000.0, 156250.0, 195312.5, 24414...  "
      ]
     },
     "execution_count": 79,
     "metadata": {},
     "output_type": "execute_result"
    }
   ],
   "source": [
    "given_data.head(6)"
   ]
  },
  {
   "cell_type": "code",
   "execution_count": 80,
   "id": "51f70973",
   "metadata": {},
   "outputs": [],
   "source": [
    "def clean_prices(prices):\n",
    "    flattened_prices = ', '.join(map(str, prices))\n",
    "    # Remove non-numeric characters from the string\n",
    "    cleaned_prices = ''.join(filter(str.isdigit, flattened_prices))\n",
    "    return cleaned_prices"
   ]
  },
  {
   "cell_type": "code",
   "execution_count": 81,
   "id": "7fe96af8",
   "metadata": {},
   "outputs": [],
   "source": [
    "# Clean 'historical_prices' column\n",
    "given_data['historical_prices']=given_data['historical_prices'].apply(clean_prices)"
   ]
  },
  {
   "cell_type": "code",
   "execution_count": 82,
   "id": "d2c6ead0",
   "metadata": {},
   "outputs": [],
   "source": [
    "# Clean 'predicted_prices' column\n",
    "given_data['predicted_prices'] =given_data['predicted_prices'].apply(clean_prices)\n"
   ]
  },
  {
   "cell_type": "code",
   "execution_count": 83,
   "id": "4a33a2fe",
   "metadata": {},
   "outputs": [],
   "source": [
    "# Convert cleaned strings to numeric format\n",
    "given_data['historical_prices'] = pd.to_numeric(given_data['historical_prices'], errors='coerce')\n",
    "given_data['predicted_prices'] = pd.to_numeric(given_data['predicted_prices'], errors='coerce')\n"
   ]
  },
  {
   "cell_type": "code",
   "execution_count": 84,
   "id": "4ba419e4",
   "metadata": {},
   "outputs": [
    {
     "name": "stdout",
     "output_type": "stream",
     "text": [
      "locations             object\n",
      "current_prices(#)      int64\n",
      "percent_increase     float64\n",
      "years_back             int64\n",
      "years_forward          int64\n",
      "historical_prices    float64\n",
      "predicted_prices     float64\n",
      "dtype: object\n"
     ]
    }
   ],
   "source": [
    "print(given_data.dtypes)\n"
   ]
  },
  {
   "cell_type": "code",
   "execution_count": 85,
   "id": "a91e450c",
   "metadata": {},
   "outputs": [
    {
     "name": "stdout",
     "output_type": "stream",
     "text": [
      "   historical_prices  predicted_prices\n",
      "0       1.000000e+06      1.400000e+06\n",
      "1       1.481481e+23      2.700000e+23\n",
      "2       5.917160e+38      1.300000e+30\n",
      "3       3.424564e+53      1.242000e+66\n",
      "4       5.655461e+72      3.625001e+49\n",
      "5       2.621443e+35      1.000000e+47\n"
     ]
    }
   ],
   "source": [
    "print(given_data[['historical_prices', 'predicted_prices']])\n"
   ]
  },
  {
   "cell_type": "code",
   "execution_count": 86,
   "id": "1455045e",
   "metadata": {},
   "outputs": [
    {
     "data": {
      "text/html": [
       "<div>\n",
       "<style scoped>\n",
       "    .dataframe tbody tr th:only-of-type {\n",
       "        vertical-align: middle;\n",
       "    }\n",
       "\n",
       "    .dataframe tbody tr th {\n",
       "        vertical-align: top;\n",
       "    }\n",
       "\n",
       "    .dataframe thead th {\n",
       "        text-align: right;\n",
       "    }\n",
       "</style>\n",
       "<table border=\"1\" class=\"dataframe\">\n",
       "  <thead>\n",
       "    <tr style=\"text-align: right;\">\n",
       "      <th></th>\n",
       "      <th>locations</th>\n",
       "      <th>current_prices(#)</th>\n",
       "      <th>percent_increase</th>\n",
       "      <th>years_back</th>\n",
       "      <th>years_forward</th>\n",
       "      <th>historical_prices</th>\n",
       "      <th>predicted_prices</th>\n",
       "    </tr>\n",
       "  </thead>\n",
       "  <tbody>\n",
       "    <tr>\n",
       "      <th>0</th>\n",
       "      <td>lekki phase 1</td>\n",
       "      <td>100000</td>\n",
       "      <td>0.40</td>\n",
       "      <td>2023</td>\n",
       "      <td>2025</td>\n",
       "      <td>1.000000e+06</td>\n",
       "      <td>1.400000e+06</td>\n",
       "    </tr>\n",
       "    <tr>\n",
       "      <th>1</th>\n",
       "      <td>Lekki</td>\n",
       "      <td>200000</td>\n",
       "      <td>0.35</td>\n",
       "      <td>2022</td>\n",
       "      <td>2026</td>\n",
       "      <td>1.481481e+23</td>\n",
       "      <td>2.700000e+23</td>\n",
       "    </tr>\n",
       "    <tr>\n",
       "      <th>2</th>\n",
       "      <td>Epe</td>\n",
       "      <td>100000</td>\n",
       "      <td>0.30</td>\n",
       "      <td>2021</td>\n",
       "      <td>2027</td>\n",
       "      <td>5.917160e+38</td>\n",
       "      <td>1.300000e+30</td>\n",
       "    </tr>\n",
       "    <tr>\n",
       "      <th>3</th>\n",
       "      <td>Ikorodu</td>\n",
       "      <td>90000</td>\n",
       "      <td>0.38</td>\n",
       "      <td>2020</td>\n",
       "      <td>2028</td>\n",
       "      <td>3.424564e+53</td>\n",
       "      <td>1.242000e+66</td>\n",
       "    </tr>\n",
       "    <tr>\n",
       "      <th>4</th>\n",
       "      <td>Banana Estate</td>\n",
       "      <td>250000</td>\n",
       "      <td>0.45</td>\n",
       "      <td>2019</td>\n",
       "      <td>2029</td>\n",
       "      <td>5.655461e+72</td>\n",
       "      <td>3.625001e+49</td>\n",
       "    </tr>\n",
       "    <tr>\n",
       "      <th>5</th>\n",
       "      <td>Ifo</td>\n",
       "      <td>80000</td>\n",
       "      <td>0.25</td>\n",
       "      <td>2018</td>\n",
       "      <td>2030</td>\n",
       "      <td>2.621443e+35</td>\n",
       "      <td>1.000000e+47</td>\n",
       "    </tr>\n",
       "  </tbody>\n",
       "</table>\n",
       "</div>"
      ],
      "text/plain": [
       "       locations  current_prices(#)  percent_increase  years_back  \\\n",
       "0  lekki phase 1             100000              0.40        2023   \n",
       "1          Lekki             200000              0.35        2022   \n",
       "2            Epe             100000              0.30        2021   \n",
       "3        Ikorodu              90000              0.38        2020   \n",
       "4  Banana Estate             250000              0.45        2019   \n",
       "5            Ifo              80000              0.25        2018   \n",
       "\n",
       "   years_forward  historical_prices  predicted_prices  \n",
       "0           2025       1.000000e+06      1.400000e+06  \n",
       "1           2026       1.481481e+23      2.700000e+23  \n",
       "2           2027       5.917160e+38      1.300000e+30  \n",
       "3           2028       3.424564e+53      1.242000e+66  \n",
       "4           2029       5.655461e+72      3.625001e+49  \n",
       "5           2030       2.621443e+35      1.000000e+47  "
      ]
     },
     "execution_count": 86,
     "metadata": {},
     "output_type": "execute_result"
    }
   ],
   "source": [
    "given_data.head(6)"
   ]
  },
  {
   "cell_type": "code",
   "execution_count": 105,
   "id": "a6c4f215",
   "metadata": {},
   "outputs": [],
   "source": [
    "given_data.to_csv(\"Desktop/given_data.csv\", index=False)"
   ]
  },
  {
   "cell_type": "code",
   "execution_count": 2,
   "id": "fd5bb9b1",
   "metadata": {},
   "outputs": [],
   "source": [
    "#visulization on power bi"
   ]
  },
  {
   "cell_type": "code",
   "execution_count": null,
   "id": "fd8ef5e0",
   "metadata": {},
   "outputs": [],
   "source": []
  }
 ],
 "metadata": {
  "kernelspec": {
   "display_name": "Python 3 (ipykernel)",
   "language": "python",
   "name": "python3"
  },
  "language_info": {
   "codemirror_mode": {
    "name": "ipython",
    "version": 3
   },
   "file_extension": ".py",
   "mimetype": "text/x-python",
   "name": "python",
   "nbconvert_exporter": "python",
   "pygments_lexer": "ipython3",
   "version": "3.11.5"
  }
 },
 "nbformat": 4,
 "nbformat_minor": 5
}
